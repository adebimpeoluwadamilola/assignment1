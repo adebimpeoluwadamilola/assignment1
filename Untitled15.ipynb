{
 "cells": [
  {
   "cell_type": "code",
   "execution_count": 1,
   "id": "df692e49",
   "metadata": {},
   "outputs": [],
   "source": [
    "def rider():\n",
    "    oneWeek=6\n",
    "    sixDays=100\n",
    "    threeMonths=78\n",
    "    fuelForThreeMonth= sixDays * threeMonths / oneWeek\n",
    "    print(\"Fuel for three month(78days) =\", fuelForThreeMonth)"
   ]
  },
  {
   "cell_type": "code",
   "execution_count": 3,
   "id": "ec08d556",
   "metadata": {},
   "outputs": [
    {
     "name": "stdout",
     "output_type": "stream",
     "text": [
      "Fuel for three month(78days) = 1300.0\n"
     ]
    }
   ],
   "source": [
    "rider ()"
   ]
  },
  {
   "cell_type": "code",
   "execution_count": null,
   "id": "2974053a",
   "metadata": {},
   "outputs": [],
   "source": []
  },
  {
   "cell_type": "code",
   "execution_count": null,
   "id": "819f6b4d",
   "metadata": {},
   "outputs": [],
   "source": []
  }
 ],
 "metadata": {
  "kernelspec": {
   "display_name": "Python 3 (ipykernel)",
   "language": "python",
   "name": "python3"
  },
  "language_info": {
   "codemirror_mode": {
    "name": "ipython",
    "version": 3
   },
   "file_extension": ".py",
   "mimetype": "text/x-python",
   "name": "python",
   "nbconvert_exporter": "python",
   "pygments_lexer": "ipython3",
   "version": "3.11.1"
  }
 },
 "nbformat": 4,
 "nbformat_minor": 5
}
